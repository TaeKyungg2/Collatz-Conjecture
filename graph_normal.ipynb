{
 "cells": [
  {
   "cell_type": "code",
   "execution_count": 1,
   "id": "77fce87c",
   "metadata": {},
   "outputs": [
    {
     "data": {
      "text/plain": [
       "['2, 1, \\n', '3, 10, 5, 16, 8, 4, 2, 1, \\n']"
      ]
     },
     "execution_count": 1,
     "metadata": {},
     "output_type": "execute_result"
    }
   ],
   "source": [
    "import pandas as pd\n",
    "\n",
    "with open('col_10k.txt', 'r', encoding='utf-8') as file:\n",
    "    data=file.readlines()\n",
    "data[:2]"
   ]
  },
  {
   "cell_type": "code",
   "execution_count": 2,
   "id": "3b50b6dd",
   "metadata": {},
   "outputs": [
    {
     "data": {
      "text/plain": [
       "[['2', ' 1'], ['3', ' 10', ' 5', ' 16', ' 8', ' 4', ' 2', ' 1']]"
      ]
     },
     "execution_count": 2,
     "metadata": {},
     "output_type": "execute_result"
    }
   ],
   "source": [
    "col_nums=list(map(lambda line : line[:-3].split(\",\"),data))\n",
    "col_nums[:2]"
   ]
  },
  {
   "cell_type": "code",
   "execution_count": 3,
   "id": "38520766",
   "metadata": {},
   "outputs": [
    {
     "data": {
      "text/plain": [
       "[[2, 1], [3, 10, 5, 16, 8, 4, 2, 1]]"
      ]
     },
     "execution_count": 3,
     "metadata": {},
     "output_type": "execute_result"
    }
   ],
   "source": [
    "col_nums=list(map(lambda line : list(map(lambda x : int(x), line)),col_nums))\n",
    "col_nums[:2]"
   ]
  },
  {
   "cell_type": "code",
   "execution_count": null,
   "id": "e1ee32a2",
   "metadata": {},
   "outputs": [],
   "source": []
  }
 ],
 "metadata": {
  "kernelspec": {
   "display_name": "base",
   "language": "python",
   "name": "python3"
  },
  "language_info": {
   "codemirror_mode": {
    "name": "ipython",
    "version": 3
   },
   "file_extension": ".py",
   "mimetype": "text/x-python",
   "name": "python",
   "nbconvert_exporter": "python",
   "pygments_lexer": "ipython3",
   "version": "3.12.7"
  }
 },
 "nbformat": 4,
 "nbformat_minor": 5
}
