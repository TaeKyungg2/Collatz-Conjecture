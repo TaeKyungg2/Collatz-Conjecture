{
 "cells": [
  {
   "cell_type": "code",
   "execution_count": 3,
   "id": "626afdf9",
   "metadata": {},
   "outputs": [
    {
     "data": {
      "text/plain": [
       "['2, 1, \\n', '3, 10, 5, 16, 8, 4, 2, 1, \\n']"
      ]
     },
     "execution_count": 3,
     "metadata": {},
     "output_type": "execute_result"
    }
   ],
   "source": [
    "import pandas as pd\n",
    "\n",
    "with open('col_10k.txt', 'r', encoding='utf-8') as file:\n",
    "    data=file.readlines()\n",
    "data[:2]"
   ]
  },
  {
   "cell_type": "code",
   "execution_count": 4,
   "id": "7fb74845",
   "metadata": {},
   "outputs": [
    {
     "data": {
      "text/plain": [
       "['2, 1', '3, 10, 5, 16, 8, 4, 2, 1']"
      ]
     },
     "execution_count": 4,
     "metadata": {},
     "output_type": "execute_result"
    }
   ],
   "source": [
    "data=list(map(lambda x : x[0:-3],data))\n",
    "data[:2]"
   ]
  },
  {
   "cell_type": "code",
   "execution_count": 5,
   "id": "5718ea14",
   "metadata": {},
   "outputs": [],
   "source": [
    "with open(\"collatz_10k_sample.txt\", \"w\", encoding=\"utf-8\") as f:\n",
    "    for i in data:\n",
    "        f.write(i+\"\\n\")\n"
   ]
  }
 ],
 "metadata": {
  "kernelspec": {
   "display_name": "base",
   "language": "python",
   "name": "python3"
  },
  "language_info": {
   "codemirror_mode": {
    "name": "ipython",
    "version": 3
   },
   "file_extension": ".py",
   "mimetype": "text/x-python",
   "name": "python",
   "nbconvert_exporter": "python",
   "pygments_lexer": "ipython3",
   "version": "3.12.7"
  }
 },
 "nbformat": 4,
 "nbformat_minor": 5
}
