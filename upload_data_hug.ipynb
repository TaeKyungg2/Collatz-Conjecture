{
 "cells": [
  {
   "cell_type": "code",
   "execution_count": null,
   "id": "b64710f0",
   "metadata": {},
   "outputs": [
    {
     "name": "stdout",
     "output_type": "stream",
     "text": [
      "2, \n"
     ]
    }
   ],
   "source": [
    "import pandas as pd\n",
    "with open(\"../collatz_conjecture_100m_data.txt\",\"r\",encoding='utf-8') as data:\n",
    "    data.seek(0,2)\n",
    "    len=data.tell\n",
    "    \n",
    "    x=li[0:-2]\n",
    "    print(x)"
   ]
  },
  {
   "cell_type": "code",
   "execution_count": null,
   "id": "91627133",
   "metadata": {},
   "outputs": [
    {
     "name": "stdout",
     "output_type": "stream",
     "text": [
      "(1000000, 1)\n",
      "                                   start_num : -1~1000000\n",
      "999998  99000000,49500000,24750000,12375000,6187500,30...\n",
      "999999  99000001,297000004,148500002,74250001,22275000...\n"
     ]
    }
   ],
   "source": [
    "import pandas as pd\n",
    "with open(\"../collatz_conjecture_100m_data.txt\",\"r\",encoding='utf-8') as data:\n",
    "    batch_1m=[0]*1000000\n",
    "    pan_data=pd.DataFrame()\n",
    "    batch_1m[0]=1\n",
    "    i=1\n",
    "    x=0\n",
    "    for line in data:\n",
    "        line=line.strip()\n",
    "        if len(line)<=1:continue\n",
    "        if line[-1]==\",\":line=line[0:-2]\n",
    "        batch_1m[i]=line\n",
    "        if (i+1)%1000000==0:\n",
    "            pan_data[f\"start_num : {(i-1000000)+1000000*x+0}~{i+1+1000000*x}\"]=batch_1m\n",
    "            batch_1m=[0]*1000000\n",
    "            i=-1\n",
    "        i+=1\n",
    "print(pan_data.shape)\n",
    "print(pan_data[-1])"
   ]
  },
  {
   "cell_type": "code",
   "execution_count": 19,
   "id": "21aa8b7b",
   "metadata": {},
   "outputs": [
    {
     "data": {
      "text/plain": [
       "start_num : -1~1000000    98000004,49000002,24500001,73500004,36750002,1...\n",
       "Name: 2, dtype: object"
      ]
     },
     "execution_count": 19,
     "metadata": {},
     "output_type": "execute_result"
    }
   ],
   "source": [
    "pan_data.iloc[2]"
   ]
  },
  {
   "cell_type": "code",
   "execution_count": null,
   "id": "dd54073b",
   "metadata": {},
   "outputs": [
    {
     "name": "stdout",
     "output_type": "stream",
     "text": [
      "^C\n"
     ]
    }
   ],
   "source": [
    "# Parquet 저장 (압축 zstd 권장)\n",
    "pan_data.to_parquet(\"dataset.parquet\", engine=\"pyarrow\", compression=\"zstd\")"
   ]
  },
  {
   "cell_type": "code",
   "execution_count": null,
   "id": "6d4012aa",
   "metadata": {},
   "outputs": [],
   "source": []
  }
 ],
 "metadata": {
  "kernelspec": {
   "display_name": "Python 3",
   "language": "python",
   "name": "python3"
  },
  "language_info": {
   "codemirror_mode": {
    "name": "ipython",
    "version": 3
   },
   "file_extension": ".py",
   "mimetype": "text/x-python",
   "name": "python",
   "nbconvert_exporter": "python",
   "pygments_lexer": "ipython3",
   "version": "3.13.7"
  }
 },
 "nbformat": 4,
 "nbformat_minor": 5
}
