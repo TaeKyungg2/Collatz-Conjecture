{
 "cells": [
  {
   "cell_type": "code",
   "execution_count": null,
   "id": "b64710f0",
   "metadata": {},
   "outputs": [
    {
     "name": "stdout",
     "output_type": "stream",
     "text": [
      "2, \n"
     ]
    }
   ],
   "source": [
    "import pandas as pd\n",
    "with open(\"../collatz_conjecture_100m_data.txt\",\"r\",encoding='utf-8') as data:\n",
    "    data.seek(0,2)\n",
    "    len=data.tell\n",
    "    \n",
    "    x=li[0:-2]\n",
    "    print(x)"
   ]
  },
  {
   "cell_type": "code",
   "execution_count": null,
   "id": "91627133",
   "metadata": {},
   "outputs": [],
   "source": [
    "import pandas as pd\n",
    "with open(\"../collatz_conjecture_100m_data.txt\",\"r\",encoding='utf-8') as data:\n",
    "    batch_1m=[0]*1000000\n",
    "    pan_data=pd.DataFrame()\n",
    "    batch_1m[0]=1\n",
    "    i=1\n",
    "    x=0\n",
    "    for line in data:\n",
    "        line=line.strip()\n",
    "        if len(line)<=1:continue\n",
    "        if line[-1]==\",\":line=line[0:-2]\n",
    "        batch_1m[i]=line\n",
    "        if (i+1)%1000000==0:\n",
    "            pan_data[f\"start_num : {(i-1000000+2)+1000000*x}~{i+1+1000000*x}\"]=batch_1m\n",
    "            batch_1m=[0]*1000000\n",
    "            i=-1\n",
    "            x+=1\n",
    "        i+=1\n",
    "print(pan_data.shape)\n",
    "print(pan_data[-1])"
   ]
  },
  {
   "cell_type": "code",
   "execution_count": 19,
   "id": "21aa8b7b",
   "metadata": {},
   "outputs": [
    {
     "data": {
      "text/plain": [
       "start_num : -1~1000000    98000004,49000002,24500001,73500004,36750002,1...\n",
       "Name: 2, dtype: object"
      ]
     },
     "execution_count": 19,
     "metadata": {},
     "output_type": "execute_result"
    }
   ],
   "source": [
    "pan_data.iloc[2]"
   ]
  },
  {
   "cell_type": "code",
   "execution_count": null,
   "id": "dd54073b",
   "metadata": {},
   "outputs": [
    {
     "name": "stdout",
     "output_type": "stream",
     "text": [
      "^C\n"
     ]
    }
   ],
   "source": [
    "# Parquet 저장 (압축 zstd 권장)\n",
    "pan_data.to_parquet(\"dataset.parquet\", engine=\"pyarrow\", compression=\"zstd\")"
   ]
  },
  {
   "cell_type": "code",
   "execution_count": 2,
   "id": "6d4012aa",
   "metadata": {},
   "outputs": [],
   "source": [
    "import pyarrow.parquet as pq\n",
    "\n",
    "pq_file = pq.ParquetFile(\"../collatz_100m.parquet\")"
   ]
  },
  {
   "cell_type": "code",
   "execution_count": 3,
   "id": "06bffbf8",
   "metadata": {},
   "outputs": [
    {
     "name": "stdout",
     "output_type": "stream",
     "text": [
      "Row groups: 100\n"
     ]
    }
   ],
   "source": [
    "print(\"Row groups:\", pq_file.num_row_groups)"
   ]
  },
  {
   "cell_type": "code",
   "execution_count": null,
   "id": "ce92ba00",
   "metadata": {},
   "outputs": [
    {
     "data": {
      "text/html": [
       "<div>\n",
       "<style scoped>\n",
       "    .dataframe tbody tr th:only-of-type {\n",
       "        vertical-align: middle;\n",
       "    }\n",
       "\n",
       "    .dataframe tbody tr th {\n",
       "        vertical-align: top;\n",
       "    }\n",
       "\n",
       "    .dataframe thead th {\n",
       "        text-align: right;\n",
       "    }\n",
       "</style>\n",
       "<table border=\"1\" class=\"dataframe\">\n",
       "  <thead>\n",
       "    <tr style=\"text-align: right;\">\n",
       "      <th></th>\n",
       "      <th>numbers</th>\n",
       "    </tr>\n",
       "  </thead>\n",
       "  <tbody>\n",
       "    <tr>\n",
       "      <th>0</th>\n",
       "      <td>1000002,500001,1500004,750002,375001,1125004,5...</td>\n",
       "    </tr>\n",
       "    <tr>\n",
       "      <th>1</th>\n",
       "      <td>1000003,3000010,1500005,4500016,2250008,112500...</td>\n",
       "    </tr>\n",
       "    <tr>\n",
       "      <th>2</th>\n",
       "      <td>1000004,500002,250001,750004,375002,187501,562...</td>\n",
       "    </tr>\n",
       "    <tr>\n",
       "      <th>3</th>\n",
       "      <td>1000005,3000016,1500008,750004,375002,187501,5...</td>\n",
       "    </tr>\n",
       "    <tr>\n",
       "      <th>4</th>\n",
       "      <td>1000006,500003,1500010,750005,2250016,1125008,...</td>\n",
       "    </tr>\n",
       "    <tr>\n",
       "      <th>...</th>\n",
       "      <td>...</td>\n",
       "    </tr>\n",
       "    <tr>\n",
       "      <th>999995</th>\n",
       "      <td>1999997,5999992,2999996,1499998,749999,2249998...</td>\n",
       "    </tr>\n",
       "    <tr>\n",
       "      <th>999996</th>\n",
       "      <td>1999998,999999,2999998,1499999,4499998,2249999...</td>\n",
       "    </tr>\n",
       "    <tr>\n",
       "      <th>999997</th>\n",
       "      <td>1999999,5999998,2999999,8999998,4499999,134999...</td>\n",
       "    </tr>\n",
       "    <tr>\n",
       "      <th>999998</th>\n",
       "      <td>2000000,1000000,500000,250000,125000,62500,312...</td>\n",
       "    </tr>\n",
       "    <tr>\n",
       "      <th>999999</th>\n",
       "      <td>2000001,6000004,3000002,1500001,4500004,225000...</td>\n",
       "    </tr>\n",
       "  </tbody>\n",
       "</table>\n",
       "<p>1000000 rows × 1 columns</p>\n",
       "</div>"
      ],
      "text/plain": [
       "                                                  numbers\n",
       "0       1000002,500001,1500004,750002,375001,1125004,5...\n",
       "1       1000003,3000010,1500005,4500016,2250008,112500...\n",
       "2       1000004,500002,250001,750004,375002,187501,562...\n",
       "3       1000005,3000016,1500008,750004,375002,187501,5...\n",
       "4       1000006,500003,1500010,750005,2250016,1125008,...\n",
       "...                                                   ...\n",
       "999995  1999997,5999992,2999996,1499998,749999,2249998...\n",
       "999996  1999998,999999,2999998,1499999,4499998,2249999...\n",
       "999997  1999999,5999998,2999999,8999998,4499999,134999...\n",
       "999998  2000000,1000000,500000,250000,125000,62500,312...\n",
       "999999  2000001,6000004,3000002,1500001,4500004,225000...\n",
       "\n",
       "[1000000 rows x 1 columns]"
      ]
     },
     "execution_count": 4,
     "metadata": {},
     "output_type": "execute_result"
    }
   ],
   "source": [
    "import pandas as pd\n",
    "row=pq_file.read_row_group(1) #\n",
    "df=row.to_pandas()\n",
    "df"
   ]
  },
  {
   "cell_type": "code",
   "execution_count": null,
   "id": "02cd58bc",
   "metadata": {},
   "outputs": [
    {
     "data": {
      "application/vnd.jupyter.widget-view+json": {
       "model_id": "21e2e4cf364348c9a374d61d46b2aa94",
       "version_major": 2,
       "version_minor": 0
      },
      "text/plain": [
       "README.md: 0.00B [00:00, ?B/s]"
      ]
     },
     "metadata": {},
     "output_type": "display_data"
    },
    {
     "data": {
      "application/vnd.jupyter.widget-view+json": {
       "model_id": "4d1cb5c346054eb3b9ee1b3f44ee6f44",
       "version_major": 2,
       "version_minor": 0
      },
      "text/plain": [
       "collatz_100m.parquet:   0%|          | 0.00/7.98G [00:00<?, ?B/s]"
      ]
     },
     "metadata": {},
     "output_type": "display_data"
    }
   ],
   "source": [
    "from datasets import load_dataset\n",
    "dataset = load_dataset(\"Taery/Collatz_conjecture_100m\")"
   ]
  }
 ],
 "metadata": {
  "kernelspec": {
   "display_name": "base",
   "language": "python",
   "name": "python3"
  },
  "language_info": {
   "codemirror_mode": {
    "name": "ipython",
    "version": 3
   },
   "file_extension": ".py",
   "mimetype": "text/x-python",
   "name": "python",
   "nbconvert_exporter": "python",
   "pygments_lexer": "ipython3",
   "version": "3.12.7"
  }
 },
 "nbformat": 4,
 "nbformat_minor": 5
}
