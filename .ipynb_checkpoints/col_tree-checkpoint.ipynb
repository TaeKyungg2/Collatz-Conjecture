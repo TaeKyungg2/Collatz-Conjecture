{
 "cells": [
  {
   "cell_type": "code",
   "execution_count": 2,
   "id": "aj89vz9uega",
   "metadata": {},
   "outputs": [
    {
     "data": {
      "text/plain": [
       "['2, 1, \\n',\n",
       " '3, 10, 5, 16, 8, 4, 2, 1, \\n',\n",
       " '4, 2, 1, \\n',\n",
       " '5, 16, 8, 4, 2, 1, \\n',\n",
       " '6, 3, 10, 5, 16, 8, 4, 2, 1, \\n',\n",
       " '7, 22, 11, 34, 17, 52, 26, 13, 40, 20, 10, 5, 16, 8, 4, 2, 1, \\n',\n",
       " '8, 4, 2, 1, \\n',\n",
       " '9, 28, 14, 7, 22, 11, 34, 17, 52, 26, 13, 40, 20, 10, 5, 16, 8, 4, 2, 1, \\n',\n",
       " '10, 5, 16, 8, 4, 2, 1, \\n',\n",
       " '11, 34, 17, 52, 26, 13, 40, 20, 10, 5, 16, 8, 4, 2, 1, \\n']"
      ]
     },
     "execution_count": 2,
     "metadata": {},
     "output_type": "execute_result"
    }
   ],
   "source": [
    "import pandas as pd\n",
    "\n",
    "with open('col_10k.txt', 'r', encoding='utf-8') as file:\n",
    "    data=file.readlines()\n",
    "data[:10]"
   ]
  },
  {
   "cell_type": "code",
   "execution_count": 7,
   "id": "e6eaec63",
   "metadata": {},
   "outputs": [
    {
     "data": {
      "text/plain": [
       "[['2', ' 1'],\n",
       " ['3', ' 10', ' 5', ' 16', ' 8', ' 4', ' 2', ' 1'],\n",
       " ['4', ' 2', ' 1'],\n",
       " ['5', ' 16', ' 8', ' 4', ' 2', ' 1'],\n",
       " ['6', ' 3', ' 10', ' 5', ' 16', ' 8', ' 4', ' 2', ' 1'],\n",
       " ['7',\n",
       "  ' 22',\n",
       "  ' 11',\n",
       "  ' 34',\n",
       "  ' 17',\n",
       "  ' 52',\n",
       "  ' 26',\n",
       "  ' 13',\n",
       "  ' 40',\n",
       "  ' 20',\n",
       "  ' 10',\n",
       "  ' 5',\n",
       "  ' 16',\n",
       "  ' 8',\n",
       "  ' 4',\n",
       "  ' 2',\n",
       "  ' 1'],\n",
       " ['8', ' 4', ' 2', ' 1'],\n",
       " ['9',\n",
       "  ' 28',\n",
       "  ' 14',\n",
       "  ' 7',\n",
       "  ' 22',\n",
       "  ' 11',\n",
       "  ' 34',\n",
       "  ' 17',\n",
       "  ' 52',\n",
       "  ' 26',\n",
       "  ' 13',\n",
       "  ' 40',\n",
       "  ' 20',\n",
       "  ' 10',\n",
       "  ' 5',\n",
       "  ' 16',\n",
       "  ' 8',\n",
       "  ' 4',\n",
       "  ' 2',\n",
       "  ' 1'],\n",
       " ['10', ' 5', ' 16', ' 8', ' 4', ' 2', ' 1'],\n",
       " ['11',\n",
       "  ' 34',\n",
       "  ' 17',\n",
       "  ' 52',\n",
       "  ' 26',\n",
       "  ' 13',\n",
       "  ' 40',\n",
       "  ' 20',\n",
       "  ' 10',\n",
       "  ' 5',\n",
       "  ' 16',\n",
       "  ' 8',\n",
       "  ' 4',\n",
       "  ' 2',\n",
       "  ' 1']]"
      ]
     },
     "execution_count": 7,
     "metadata": {},
     "output_type": "execute_result"
    }
   ],
   "source": [
    "col_nums=list(map(lambda line : line[:-3].split(\",\"),data))\n",
    "col_nums[:10]"
   ]
  },
  {
   "cell_type": "code",
   "execution_count": null,
   "id": "8e063879",
   "metadata": {},
   "outputs": [],
   "source": [
    "col_nums=map(lambda x : )"
   ]
  }
 ],
 "metadata": {
  "kernelspec": {
   "display_name": "Python 3",
   "language": "python",
   "name": "python3"
  },
  "language_info": {
   "codemirror_mode": {
    "name": "ipython",
    "version": 3
   },
   "file_extension": ".py",
   "mimetype": "text/x-python",
   "name": "python",
   "nbconvert_exporter": "python",
   "pygments_lexer": "ipython3",
   "version": "3.13.7"
  }
 },
 "nbformat": 4,
 "nbformat_minor": 5
}
